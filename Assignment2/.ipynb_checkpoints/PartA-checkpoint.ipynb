{
 "cells": [
  {
   "cell_type": "markdown",
   "metadata": {},
   "source": [
    "<h1>Part A (Basic Neural Network Structuring)</h1>"
   ]
  },
  {
   "cell_type": "code",
   "execution_count": 92,
   "metadata": {},
   "outputs": [],
   "source": [
    "# Imports\n",
    "import math\n",
    "import torch\n",
    "import numpy as np"
   ]
  },
  {
   "cell_type": "code",
   "execution_count": 93,
   "metadata": {},
   "outputs": [],
   "source": [
    "class NeuralNetwork():\n",
    "    def __init__(self, layer_sizes):\n",
    "        \n",
    "        # Creating variables for the sizes of each layer\n",
    "        self.layer_sizes = layer_sizes\n",
    "        self.in_size = self.layer_sizes[0]\n",
    "        self.out_size = self.layer_sizes[-1]\n",
    "        self.hidden_sizes = self.layer_sizes[1:-1]\n",
    "        self.num_layers = len(self.layer_sizes)\n",
    "        \n",
    "        # Build the weights for our network.\n",
    "        # The layout for the weights will be a list of matrices for now.\n",
    "        # The shape of a given weight item in the list will be [from layer size, to layer size]\n",
    "        self.thetas = []\n",
    "        for layer_ix in range(1, len(layer_sizes)):\n",
    "            self.thetas.append((1/(np.sqrt(layer_sizes[layer_ix-1]+1))) * torch.rand(layer_sizes[layer_ix-1]+1, layer_sizes[layer_ix]))\n",
    "            \n",
    "    def getLayer(self, layer):\n",
    "        return self.thetas[layer]\n",
    "        \n",
    "    def forward(self, input_list):\n",
    "\n",
    "        z = []\n",
    "        a = []\n",
    "        \n",
    "        first_layer_no_bias = torch.FloatTensor(input_list).view(1, len(input_list))\n",
    "        \n",
    "        z.append(first_layer_no_bias)\n",
    "        a.append(z[0])\n",
    "                        \n",
    "        for i in range(0,self.num_layers-1):\n",
    "            bias = torch.ones(1, 1)\n",
    "            layer_with_bias = torch.cat([bias, a[i]], 1)\n",
    "          \n",
    "            print(\"Layer %d 'in' size: %dx%d\" % (i, layer_with_bias.shape[0], layer_with_bias.shape[1]))        \n",
    "            print(\"Layer %d theta size: %dx%d\" % (i, self.thetas[i].shape[0], self.thetas[i].shape[1]))\n",
    "            \n",
    "            z.append(torch.mm(layer_with_bias, self.thetas[i]))\n",
    "            a.append(1/(1+np.exp(-z[-1])))\n",
    "            \n",
    "            print(\"Layer %d result size: %dx%d\" % (i, a[-1].shape[0], a[-1].shape[1]))\n",
    "\n",
    "        result = a[-1][0][0]\n",
    "        \n",
    "        # If binary output desired:\n",
    "        if result >= 0.5:\n",
    "            result = 1.0\n",
    "        elif result < 0.5:\n",
    "            result = 0.0\n",
    "        \n",
    "        return result"
   ]
  },
  {
   "cell_type": "code",
   "execution_count": 94,
   "metadata": {},
   "outputs": [],
   "source": [
    "layer_sizes = [2, 2, 1, 5, 2, 3]\n",
    "network_model = NeuralNetwork(layer_sizes)"
   ]
  },
  {
   "cell_type": "code",
   "execution_count": 95,
   "metadata": {},
   "outputs": [
    {
     "name": "stdout",
     "output_type": "stream",
     "text": [
      "[tensor([[0.0759, 0.3229],\n",
      "        [0.5397, 0.2314],\n",
      "        [0.2726, 0.4945]]), tensor([[0.4681],\n",
      "        [0.5301],\n",
      "        [0.4850]]), tensor([[0.6772, 0.7051, 0.0722, 0.3891, 0.7057],\n",
      "        [0.6743, 0.1852, 0.2623, 0.1204, 0.6807]]), tensor([[0.3946, 0.3366],\n",
      "        [0.2986, 0.0963],\n",
      "        [0.0875, 0.2353],\n",
      "        [0.1303, 0.1170],\n",
      "        [0.0096, 0.0210],\n",
      "        [0.1787, 0.0819]])]\n"
     ]
    }
   ],
   "source": [
    "thetas = [network_model.getLayer(x) for x in range(len(layer_sizes)-2)]\n",
    "print(thetas)"
   ]
  },
  {
   "cell_type": "code",
   "execution_count": 96,
   "metadata": {},
   "outputs": [
    {
     "name": "stdout",
     "output_type": "stream",
     "text": [
      "Layer 0 'in' size: 1x3\n",
      "Layer 0 theta size: 3x2\n",
      "Layer 0 result size: 1x2\n",
      "Layer 1 'in' size: 1x3\n",
      "Layer 1 theta size: 3x1\n",
      "Layer 1 result size: 1x1\n",
      "Layer 2 'in' size: 1x2\n",
      "Layer 2 theta size: 2x5\n",
      "Layer 2 result size: 1x5\n",
      "Layer 3 'in' size: 1x6\n",
      "Layer 3 theta size: 6x2\n",
      "Layer 3 result size: 1x2\n",
      "Layer 4 'in' size: 1x3\n",
      "Layer 4 theta size: 3x3\n",
      "Layer 4 result size: 1x3\n",
      "Random test of network: \n",
      "1.0\n"
     ]
    }
   ],
   "source": [
    "input_array = [42, 42]\n",
    "network_result = network_model.forward(input_array)\n",
    "print(\"Random test of network: \")\n",
    "print(network_result)"
   ]
  }
 ],
 "metadata": {
  "kernelspec": {
   "display_name": "DeepLearning",
   "language": "python",
   "name": "deep_learning"
  },
  "language_info": {
   "codemirror_mode": {
    "name": "ipython",
    "version": 3
   },
   "file_extension": ".py",
   "mimetype": "text/x-python",
   "name": "python",
   "nbconvert_exporter": "python",
   "pygments_lexer": "ipython3",
   "version": "3.7.1"
  }
 },
 "nbformat": 4,
 "nbformat_minor": 2
}
