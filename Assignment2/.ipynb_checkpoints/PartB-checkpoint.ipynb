{
 "cells": [
  {
   "cell_type": "markdown",
   "metadata": {},
   "source": [
    "<h1>Part B (Neural Network as Logic Gates)</h1>"
   ]
  },
  {
   "cell_type": "code",
   "execution_count": 1618,
   "metadata": {},
   "outputs": [],
   "source": [
    "# Imports\n",
    "import math\n",
    "import torch\n",
    "import numpy as np"
   ]
  },
  {
   "cell_type": "code",
   "execution_count": 1619,
   "metadata": {},
   "outputs": [],
   "source": [
    "class NeuralNetwork():\n",
    "    def __init__(self, layer_sizes):\n",
    "        \n",
    "        # Creating variables for the sizes of each layer\n",
    "        self.layer_sizes = layer_sizes\n",
    "        self.in_size = self.layer_sizes[0]\n",
    "        self.out_size = self.layer_sizes[-1]\n",
    "        self.hidden_sizes = self.layer_sizes[1:-1]\n",
    "        self.num_layers = len(self.layer_sizes)\n",
    "        \n",
    "        # Build the weights for our network.\n",
    "        # The layout for the weights will be a list of matrices for now.\n",
    "        # The shape of a given weight item in the list will be [from layer size, to layer size]\n",
    "        self.thetas = [0 for x in range(0,len(layer_sizes)-1)]\n",
    "            \n",
    "    def getLayer(self, theta, layer):\n",
    "        return self.thetas[layer]\n",
    "        \n",
    "    def forward(self, input_list):\n",
    "        \n",
    "        z = []\n",
    "        a = []\n",
    "        \n",
    "        first_layer_no_bias = torch.FloatTensor(input_list).view(1, len(input_list))\n",
    "        \n",
    "        z.append(first_layer_no_bias)\n",
    "        a.append(z[0])\n",
    "                        \n",
    "        for i in range(0,self.num_layers-1):\n",
    "            bias = torch.ones(1, 1)\n",
    "            layer_with_bias = torch.cat([bias, a[i]], 1)\n",
    "            z.append(torch.mm(layer_with_bias, self.thetas[i]))\n",
    "            a.append(1/(1+np.exp(-z[-1])))\n",
    "\n",
    "        result = a[-1][0]\n",
    "        \n",
    "        # If binary output desired:\n",
    "        if result >= 0.5:\n",
    "            result = 1.0\n",
    "        elif result < 0.5:\n",
    "            result = 0.0\n",
    "        \n",
    "        return result"
   ]
  },
  {
   "cell_type": "markdown",
   "metadata": {},
   "source": [
    "<h2>Logic Gates</h2>"
   ]
  },
  {
   "cell_type": "code",
   "execution_count": 1620,
   "metadata": {},
   "outputs": [],
   "source": [
    "class AND():\n",
    "    def __init__(self):\n",
    "        layer_sizes = [2, 1]\n",
    "        self.network = NeuralNetwork(layer_sizes)\n",
    "\n",
    "    def __call__(self, x, y):\n",
    "        self.x = int(x)\n",
    "        self.y = int(y)\n",
    "        return self.forward()\n",
    "    \n",
    "    def getLayer(self, theta, layer):\n",
    "        self.network.thetas[layer] = theta\n",
    "        \n",
    "    def forward(self):\n",
    "        input_array = [self.x, self.y]\n",
    "        result = self.network.forward(input_array)\n",
    "        \n",
    "        return bool(result)"
   ]
  },
  {
   "cell_type": "code",
   "execution_count": 1621,
   "metadata": {},
   "outputs": [],
   "source": [
    "class OR():\n",
    "    def __init__(self):       \n",
    "        layer_sizes = [2, 1]\n",
    "        self.network = NeuralNetwork(layer_sizes)\n",
    "\n",
    "    def __call__(self, x, y):\n",
    "        self.x = int(x)\n",
    "        self.y = int(y)\n",
    "        return self.forward()\n",
    "    \n",
    "    def getLayer(self, theta, layer):\n",
    "        self.network.thetas[layer] = theta\n",
    "        \n",
    "    def forward(self):\n",
    "        input_array = [self.x, self.y]\n",
    "        result = self.network.forward(input_array)\n",
    "        \n",
    "        return bool(result)"
   ]
  },
  {
   "cell_type": "code",
   "execution_count": 1622,
   "metadata": {},
   "outputs": [],
   "source": [
    "class NOT():\n",
    "    def __init__(self):\n",
    "        layer_sizes = [2, 1]\n",
    "        self.network = NeuralNetwork(layer_sizes)\n",
    "\n",
    "    def __call__(self, x):\n",
    "        self.x = int(x)\n",
    "        return self.forward()\n",
    "    \n",
    "    def getLayer(self, theta, layer):\n",
    "        self.network.thetas[layer] = theta\n",
    "        \n",
    "    def forward(self):\n",
    "        input_array = [self.x]\n",
    "        result = self.network.forward(input_array)\n",
    "        \n",
    "        return bool(result)"
   ]
  },
  {
   "cell_type": "code",
   "execution_count": 1623,
   "metadata": {},
   "outputs": [],
   "source": [
    "class XOR():\n",
    "    def __init__(self):\n",
    "        layer_sizes = [2, 2, 1]\n",
    "        self.network = NeuralNetwork(layer_sizes)\n",
    "\n",
    "    def __call__(self, x, y):\n",
    "        self.x = int(x)\n",
    "        self.y = int(y)\n",
    "        return self.forward()\n",
    "    \n",
    "    def getLayer(self, theta, layer):\n",
    "        self.network.thetas[layer] = theta\n",
    "        \n",
    "    def forward(self):\n",
    "        input_array = [self.x, self.y]\n",
    "        result = self.network.forward(input_array)\n",
    "        \n",
    "        return bool(result)"
   ]
  },
  {
   "cell_type": "code",
   "execution_count": 1624,
   "metadata": {},
   "outputs": [
    {
     "name": "stdout",
     "output_type": "stream",
     "text": [
      "AND result:  False\n",
      "OR result:  True\n",
      "NOT result:  True\n",
      "XOR result:  True\n"
     ]
    }
   ],
   "source": [
    "And = AND()\n",
    "Or = OR()\n",
    "Not = NOT()\n",
    "Xor = XOR()\n",
    "\n",
    "# Custom Weights\n",
    "# Rows = prev layer size\n",
    "# Cols = next layer size\n",
    "and_thetas = [torch.tensor([\n",
    "    [-2.0], \n",
    "    [ 1.5], \n",
    "    [ 1.5]\n",
    "]).float()]\n",
    "or_thetas = [torch.tensor([\n",
    "    [-0.25], \n",
    "    [ 1.5], \n",
    "    [ 1.5]\n",
    "]).float()]\n",
    "not_thetas = [torch.tensor([\n",
    "    [ 0.0],\n",
    "    [-1.0]\n",
    "]).float()]\n",
    "xor_thetas = [torch.tensor([\n",
    "    [-0.25, 2.0],\n",
    "    [ 1.5, -1.5],\n",
    "    [ 1.5, -1.5]\n",
    "]).float(), torch.tensor([\n",
    "    [-2.0],\n",
    "    [ 1.5],\n",
    "    [ 1.5]\n",
    "]).float()]\n",
    "\n",
    "And.getLayer(and_thetas[0], 0)\n",
    "Or.getLayer(or_thetas[0], 0)\n",
    "Not.getLayer(not_thetas[0], 0)\n",
    "Xor.getLayer(xor_thetas[0], 0)\n",
    "Xor.getLayer(xor_thetas[1], 1)\n",
    "\n",
    "print(\"AND result: \", And(False, False))\n",
    "print(\"OR result: \", Or(False, True))\n",
    "print(\"NOT result: \", Not(False)) \n",
    "print(\"XOR result: \", Xor(True, False))"
   ]
  },
  {
   "cell_type": "code",
   "execution_count": null,
   "metadata": {},
   "outputs": [],
   "source": []
  }
 ],
 "metadata": {
  "kernelspec": {
   "display_name": "DeepLearning",
   "language": "python",
   "name": "deep_learning"
  },
  "language_info": {
   "codemirror_mode": {
    "name": "ipython",
    "version": 3
   },
   "file_extension": ".py",
   "mimetype": "text/x-python",
   "name": "python",
   "nbconvert_exporter": "python",
   "pygments_lexer": "ipython3",
   "version": "3.7.1"
  }
 },
 "nbformat": 4,
 "nbformat_minor": 2
}
